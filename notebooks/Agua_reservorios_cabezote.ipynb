{
 "cells": [
  {
   "cell_type": "markdown",
   "metadata": {},
   "source": [
    "<img src=\"LOgo_patrimonio.png\"\n",
    "     alt=\"LOgo_patrimonio.png\"\n",
    "     style=\"float: left; margin-right: 10px;\" \n",
    "     width=400/>\n",
    "     \n",
    "<img src=\"Logo_Silva-cras.png\"\n",
    "     alt=\"Logo_Silva-cras.png\"\n",
    "     style=\"float: left; margin-right: 10px;\" \n",
    "     width=200/>\n",
    "\n",
    "<img src=\"EBD_Logo_with_Text.png\"\n",
    "     alt=\"EBD_Logo_with_Text.png\"\n",
    "     style=\"float: left; margin-right: 10px;\" \n",
    "     width=200/>\n",
    "     \n",
    "<img src=\"logo_4d.png\"\n",
    "     alt=\"logo_4d.png\"\n",
    "     style=\"float: left; margin-right: 10px;\" \n",
    "     width=200/>\n"
   ]
  },
  {
   "cell_type": "markdown",
   "metadata": {},
   "source": [
    "# Prototipo detección y mapeo de reservorios de agua superficial para su integración en el sistema SILVA-CRAS Patrimonio Natural caso bosque seco tropical \n",
    "\n",
    "\n",
    "Josef Kellndorfer, Ph.D., President and Senior Scientist, Earth Big Data, LLC\n",
    "\n",
    "Carlos Pedraza, Ms.C., Spatial analyst and Monitoring Expert, Earth Big Data, LLC\n",
    "\n",
    "Cristhian Fabian Foreto, Ms.C, Spatial analyst, Earth Big Data, LLC\n",
    "\n",
    "Fecha de entrega: 2010/12/15\n",
    "\n",
    "Este capitulo de análisis de imágenes SAR para aplicaciones forestales y de humedales está enfocado a la detección de reservorios de agua superficial a partir de la aplicación de Jupyter Notebook y codigo Pyton para el análisis para el procesamiento de series de tiempo de imágenes Sentinel-1,pre-procesadas bajo los estándares desarrollados por Earth Big Data  LLC y siguiendo la misma estructura de que hacen parte del sistema SILVA-CRAS. Para la detección y mapeo de reservorios de agua superficial.\n",
    "\n",
    "Los datos de series de tiempo fueron pre-procesados con ***S**oftware for **E**arth Big Data **P**rocessing, **P**rediction Modeling and **O**rganization* (SEPPO) EARTH BIG DATA utilizando rutinas de procesamiento basadas en la nube a través de Amazon Web Services (AWS). SEPPO permite realizar el procesamiento completo de grandes volumenes de datos SAR (y otros productos de sensores remotos) para construir datos de series de tiempo eficeintemente.\n",
    "\n",
    "El formato difgital (*jupyter notebook*) de este capitulo puede ser ejecutado en el ambiente de procesamiento en la nube desarrollado por Earth Big Data LLC para la operación del sistema [SILVA-CRAS](https://silvacras.org/arcgis/apps/sites/#/hub/) donde se encuentran disponibles los datos de series de tiempo para las zonas de Caquetá y Bosque Seco, desarrollado para Patrimonio Natural desde cualquier explorador para la exploración de los datos historicos y nuevos que hacen parte del sistema de toma de decisiones en el marco de acuerdos de conservación a nivel predial del programa Conservación y Gobernanza de Patrimonio Natural. El notebook esta construido a partir de textos, documentación, código de ejecución de Python y formato de reducción de marcado, incluyendo ecuaciones matemáticas de estilo látex. Con este enfoque, el usuario puede ampliar, cambiar y compartir fácilmente todo el trabajo con nuevos conjuntos de datos en nuevas regiones o nuevos pasos de series temporales disponibles. "
   ]
  },
  {
   "cell_type": "markdown",
   "metadata": {},
   "source": [
    "## Áreas de análisis y aspectos relevantes del Notebook para la detección y mapeo de reservorios de agua superficial\n",
    "\n",
    "- Respecto al mapeo de reservorios se enfcará en las zonas de montaña al norte de montes de María enfocado en el tile 18PVR donde se entregará el mapa de reservorios para la zona con estadisticas descriptivas asociadas a número y extensión de reservorios por municipio.\n",
    "\n",
    "- El mapeo de reservorios se realizará para una epoca de lluvias en la zona\n",
    "\n",
    "\n"
   ]
  },
  {
   "cell_type": "markdown",
   "metadata": {},
   "source": [
    "# 1. Importar Modulos\n",
    "\n",
    "Los modulos que se importan a continuación corresponden a las librerias y/o modulos disponibles de Python y aquellos desarrollados por Earth Big Data LLC que son la base de las funciones análiticas que se emplean en este Notebook"
   ]
  }
 ],
 "metadata": {
  "kernelspec": {
   "display_name": "Python [conda env:ebd]",
   "language": "python",
   "name": "conda-env-ebd-py"
  },
  "language_info": {
   "codemirror_mode": {
    "name": "ipython",
    "version": 3
   },
   "file_extension": ".py",
   "mimetype": "text/x-python",
   "name": "python",
   "nbconvert_exporter": "python",
   "pygments_lexer": "ipython3",
   "version": "3.7.3"
  }
 },
 "nbformat": 4,
 "nbformat_minor": 4
}
