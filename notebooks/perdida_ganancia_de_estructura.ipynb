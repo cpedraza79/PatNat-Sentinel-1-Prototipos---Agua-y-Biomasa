{
 "cells": [
  {
   "cell_type": "markdown",
   "metadata": {},
   "source": [
    "<img src=\"LOgo_patrimonio.png\"\n",
    "     alt=\"LOgo_patrimonio.png\"\n",
    "     style=\"float: left; margin-right: 10px;\" \n",
    "     width=400/>\n",
    "     \n",
    "<img src=\"Logo_Silva-cras.png\"\n",
    "     alt=\"Logo_Silva-cras.png\"\n",
    "     style=\"float: left; margin-right: 10px;\" \n",
    "     width=200/>\n",
    "\n",
    "<img src=\"EBD_Logo_with_Text.png\"\n",
    "     alt=\"EBD_Logo_with_Text.png\"\n",
    "     style=\"float: left; margin-right: 10px;\" \n",
    "     width=200/>\n",
    "     \n",
    "<img src=\"logo_4d.png\"\n",
    "     alt=\"logo_4d.png\"\n",
    "     style=\"float: left; margin-right: 10px;\" \n",
    "     width=200/>\n"
   ]
  },
  {
   "cell_type": "markdown",
   "metadata": {},
   "source": [
    "# Prototipo de ganancia y pérdida estructural que refleja los cambios a nivel de biomasa estructural para su integración en el sistema SILVA-CRAS Patrimonio Natural caso bosque seco tropical \n",
    "\n",
    "\n",
    "Josef Kellndorfer, Ph.D., President and Senior Scientist, Earth Big Data, LLC\n",
    "\n",
    "Carlos Pedraza, Ms.C., Spatial analyst and Monitoring Expert, Earth Big Data, LLC\n",
    "\n",
    "Cristhian Fabian Foreto, Ms.C, Spatial analyst, Earth Big Data, LLC\n",
    "\n",
    "Fecha de entrega: 2010/12/15\n",
    "\n",
    "Este capitulo de análisis de imágenes SAR para aplicaciones forestales y de humedales está enfocado a la detección de de ganancia y pérdida estructural que refleja los cambios a nivel de biomasa estructural a partir de la aplicación de Jupyter Notebook y codigo Pyton para el análisis para el procesamiento de series de tiempo de imágenes Sentinel-1,pre-procesadas bajo los estándares desarrollados por Earth Big Data  LLC y siguiendo la misma estructura de que hacen parte del sistema SILVA-CRAS. \n",
    "\n",
    "Los datos de series de tiempo fueron pre-procesados con ***S**oftware for **E**arth Big Data **P**rocessing, **P**rediction Modeling and **O**rganization* (SEPPO) EARTH BIG DATA utilizando rutinas de procesamiento basadas en la nube a través de Amazon Web Services (AWS). SEPPO permite realizar el procesamiento completo de grandes volumenes de datos SAR (y otros productos de sensores remotos) para construir datos de series de tiempo eficeintemente.\n",
    "\n",
    "El formato difgital (*jupyter notebook*) de este capitulo puede ser ejecutado en el ambiente de procesamiento en la nube desarrollado por Earth Big Data LLC para la operación del sistema [SILVA-CRAS](https://silvacras.org/arcgis/apps/sites/#/hub/) donde se encuentran disponibles los datos de series de tiempo para las zonas de Caquetá y Bosque Seco, desarrollado para Patrimonio Natural desde cualquier explorador para la exploración de los datos historicos y nuevos que hacen parte del sistema de toma de decisiones en el marco de acuerdos de conservación a nivel predial del programa Conservación y Gobernanza de Patrimonio Natural. El notebook esta construido a partir de textos, documentación, código de ejecución de Python y formato de reducción de marcado, incluyendo ecuaciones matemáticas de estilo látex. Con este enfoque, el usuario puede ampliar, cambiar y compartir fácilmente todo el trabajo con nuevos conjuntos de datos en nuevas regiones o nuevos pasos de series temporales disponibles. "
   ]
  },
  {
   "cell_type": "markdown",
   "metadata": {},
   "source": [
    "## Áreas de análisis y aspectos relevantes del Notebook para la detección de ganancia y pérdida estructural que refleja los cambios a nivel de biomasa estructural\n",
    "\n",
    "- Patrimonio natural sugiere integrar a la calibración del prototipo de pérdida y ganancia de biomasa en zonas de implementación de intervaciones río Bodoquero y Quebrada El Dedo en el departamento de Caquetá. Donde pueden haber  zonas interesantes de dinámicas de bosques asociados a montaña\n",
    "\n",
    "- Para los otros sitios para calibrar Earth Big Data propone las zonas de sabanas de Yarí y San Vicente del Caguán para pérdida antropica y regenración natural. Para procesos de resturación asistida y activa se utilizarán las zonas de Huila asociadas a los procesos de restauración asociadas al Quimbo\n",
    "\n",
    "- Se aplicarán métodos disponibles por parte de Earth Big Data para la estimación de biomasa a partir de imágenes de radar, por ejemplo la aplicación de ecuaciones alomatricas integradas con datos del sensor o modelos espacialmente explicitos "
   ]
  },
  {
   "cell_type": "markdown",
   "metadata": {},
   "source": [
    "# 1. Importar Modulos\n",
    "\n",
    "Los modulos que se importan a continuación corresponden a las librerias y/o modulos disponibles de Python y aquellos desarrollados por Earth Big Data LLC que son la base de las funciones análiticas que se emplean en este Notebook"
   ]
  },
  {
   "cell_type": "code",
   "execution_count": null,
   "metadata": {},
   "outputs": [],
   "source": []
  }
 ],
 "metadata": {
  "kernelspec": {
   "display_name": "Python [conda env:ebd]",
   "language": "python",
   "name": "conda-env-ebd-py"
  },
  "language_info": {
   "codemirror_mode": {
    "name": "ipython",
    "version": 3
   },
   "file_extension": ".py",
   "mimetype": "text/x-python",
   "name": "python",
   "nbconvert_exporter": "python",
   "pygments_lexer": "ipython3",
   "version": "3.7.3"
  }
 },
 "nbformat": 4,
 "nbformat_minor": 4
}
